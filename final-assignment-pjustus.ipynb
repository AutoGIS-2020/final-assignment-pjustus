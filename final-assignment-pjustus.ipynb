{
 "cells": [
  {
   "cell_type": "markdown",
   "metadata": {},
   "source": [
    "AccessViz"
   ]
  },
  {
   "cell_type": "code",
   "execution_count": 2,
   "metadata": {},
   "outputs": [
    {
     "ename": "NameError",
     "evalue": "name 'null' is not defined",
     "output_type": "error",
     "traceback": [
      "\u001b[1;31m---------------------------------------------------------------------------\u001b[0m",
      "\u001b[1;31mNameError\u001b[0m                                 Traceback (most recent call last)",
      "\u001b[1;32m<ipython-input-2-23ca87451975>\u001b[0m in \u001b[0;36m<module>\u001b[1;34m\u001b[0m\n\u001b[1;32m----> 1\u001b[1;33m \u001b[1;32mimport\u001b[0m \u001b[0mAccessViz\u001b[0m \u001b[1;32mas\u001b[0m \u001b[0mav\u001b[0m\u001b[1;33m\u001b[0m\u001b[1;33m\u001b[0m\u001b[0m\n\u001b[0m\u001b[0;32m      2\u001b[0m \u001b[1;33m\u001b[0m\u001b[0m\n\u001b[0;32m      3\u001b[0m \u001b[1;32mdef\u001b[0m \u001b[0mmain\u001b[0m\u001b[1;33m(\u001b[0m\u001b[1;33m)\u001b[0m\u001b[1;33m:\u001b[0m\u001b[1;33m\u001b[0m\u001b[1;33m\u001b[0m\u001b[0m\n\u001b[0;32m      4\u001b[0m     \"\"\"\n\u001b[0;32m      5\u001b[0m     \u001b[0mA\u001b[0m \u001b[0mtool\u001b[0m \u001b[1;32mfor\u001b[0m \u001b[0mmanaging\u001b[0m\u001b[1;33m,\u001b[0m \u001b[0manalyzing\u001b[0m \u001b[1;32mand\u001b[0m \u001b[0mvisualizing\u001b[0m \u001b[0mthe\u001b[0m \u001b[0mTravel\u001b[0m \u001b[0mTime\u001b[0m \u001b[0mMatrix\u001b[0m \u001b[0mdata\u001b[0m \u001b[0mset\u001b[0m\u001b[1;33m.\u001b[0m\u001b[1;33m\u001b[0m\u001b[1;33m\u001b[0m\u001b[0m\n",
      "\u001b[1;32m~\\Desktop\\PYQGIS_101\\AUTOGIS_PACKAGE\\final-assignment-pjustus\\AccessViz.py\u001b[0m in \u001b[0;36m<module>\u001b[1;34m\u001b[0m\n\u001b[0;32m      3\u001b[0m   {\n\u001b[0;32m      4\u001b[0m    \u001b[1;34m\"cell_type\"\u001b[0m\u001b[1;33m:\u001b[0m \u001b[1;34m\"code\"\u001b[0m\u001b[1;33m,\u001b[0m\u001b[1;33m\u001b[0m\u001b[1;33m\u001b[0m\u001b[0m\n\u001b[1;32m----> 5\u001b[1;33m    \u001b[1;34m\"execution_count\"\u001b[0m\u001b[1;33m:\u001b[0m \u001b[0mnull\u001b[0m\u001b[1;33m,\u001b[0m\u001b[1;33m\u001b[0m\u001b[1;33m\u001b[0m\u001b[0m\n\u001b[0m\u001b[0;32m      6\u001b[0m    \u001b[1;34m\"metadata\"\u001b[0m\u001b[1;33m:\u001b[0m \u001b[1;33m{\u001b[0m\u001b[1;33m}\u001b[0m\u001b[1;33m,\u001b[0m\u001b[1;33m\u001b[0m\u001b[1;33m\u001b[0m\u001b[0m\n\u001b[0;32m      7\u001b[0m    \u001b[1;34m\"outputs\"\u001b[0m\u001b[1;33m:\u001b[0m \u001b[1;33m[\u001b[0m\u001b[1;33m]\u001b[0m\u001b[1;33m,\u001b[0m\u001b[1;33m\u001b[0m\u001b[1;33m\u001b[0m\u001b[0m\n",
      "\u001b[1;31mNameError\u001b[0m: name 'null' is not defined"
     ]
    }
   ],
   "source": [
    "import AccessViz as av\n",
    "\n",
    "def main():\n",
    "    \"\"\"\n",
    "    A tool for managing, analyzing and visualizing the Travel Time Matrix data set. \n",
    "\n",
    "    \"\"\"\n",
    "    # Defining a list of choices\n",
    "    yn_list = [\"yes\", \"no\", \"\"]\n",
    "    # Defining ending screen\n",
    "    exit = \"You have exited AccessViz. Please restart AccessViz to try again.\"\n",
    "    # Defining starting screen\n",
    "    print(\"Welcome to AccessViz. Press enter at any time to exit.\")\n",
    "    # Asking if user wants to see YKR ID grid map\n",
    "    map_check = av.yn_loop(\"Do you want to see a map with the YKR ID grid? yes/no: \", yn_list)\n",
    "    if map_check == \"yes\":\n",
    "        YKR_map()\n",
    "    elif map_check == \"\":\n",
    "        return print(exit)\n",
    "    # Asking for user's list of YKR ID's\n",
    "    YKR_IDs_input = input(\"Insert a list of YKR ID's (e.g. [1234567, 5787544, 9876543]): \")\n",
    "    # Converting the input to a list\n",
    "    list1 = YKR_IDs_input[1:]\n",
    "    list2 = [str(x) for x in list1.split()]\n",
    "    YKR_IDs = []\n",
    "    for i in list2:\n",
    "        i = i[:-1]\n",
    "        YKR_IDs.append(i)\n",
    "    # Asking if user wants to extract files\n",
    "    zip_check = yn_loop(\"Do you need to extract the TimeTravelMatrix (TTM) files n\\ or the MetropAccess_YKR_grid? yes/no: \", yn_list)\n",
    "    if zip_check == \"yes\":\n",
    "        zip_name = input(\"Insert the name of the zip file: \")\n",
    "        zip_target = input(\"Insert the name of the target folder: \")\n",
    "        unzip(zip_name, zip_target)\n",
    "        return print(\"Please restart AccessViz.\")\n",
    "    elif zip_check == \"\":\n",
    "        return print(exit)\n",
    "    # Asking for user's input folder\n",
    "    input_folder_name = input(\"Insert the name of the folder where the TTM files are: \")\n",
    "    # Asking for user's output folder\n",
    "    output_folder_name = input(\"Insert the name of the output folder: \")\n",
    "    # Asking if user wants the TTM filepaths to a text file\n",
    "    FFF_check = yn_loop(\"TTM filepaths to a text file? yes/no: \", yn_list)\n",
    "    if FFF_check == \"yes\":\n",
    "        FF_result = FileFinder(YKR_IDs, input_folder_name, output_folder_name, to_file=True)\n",
    "    elif FFF_check == \"no\":\n",
    "        FF_result = FileFinder(YKR_IDs, input_folder_name, output_folder_name)\n",
    "    elif FFF_check == \"\":\n",
    "        return print(exit)\n",
    "    # Creating and getting filepaths of geopackage files\n",
    "    TJ_result = TableJoiner(YKR_IDs, output_folder_name, FF_result)\n",
    "    # Asking if user wants to visualize results\n",
    "    visu_check = yn_loop(\"Do you want to visualize the results? yes/no: \", yn_list)\n",
    "    if visu_check == \"yes\":\n",
    "        visualizer_tm = input(\"Insert the mode of travel for Visualizer, car/pt/bike/walk: \")\n",
    "        visualizer_mp = input(\"Insert the type of map for Visualizer, static/interactive: \")\n",
    "        Visualizer(YKR_IDs, output_folder_name, visualizer_tm, visualizer_mp, TJ_result)\n",
    "        print(f\"The map(s) can be found in: {output_folder_name}\")\n",
    "    elif visu_check == \"no\":\n",
    "        print(f\"Geopackage files can be found in: {output_folder_name}\")\n",
    "    elif visu_check == \"\":\n",
    "        return print(exit)\n",
    "    # Asking if user wants to compare travel modes\n",
    "    ctool_check = yn_loop(\"Do you want to compare two travel modes? yes/no: \", yn_list)     \n",
    "    if ctool_check == \"yes\":\n",
    "        tm_input = input(\"Insert a list of travel modes to be compared (e.g. [car, pt]): \")\n",
    "        # Converting the input to a list\n",
    "        tm_list1 = tm_input[1:]\n",
    "        tm_list2 = [str(x) for x in tm_list1.split()]\n",
    "        tms = []\n",
    "        for i in tm_list2:\n",
    "            i = i[:-1]\n",
    "            tms.append(i)\n",
    "        ComparisonTool(tms, TJ_result, output_folder_name)\n",
    "        return print(exit)\n",
    "    else:\n",
    "        return print(exit)\n",
    "\n"
   ]
  },
  {
   "cell_type": "code",
   "execution_count": null,
   "metadata": {},
   "outputs": [],
   "source": []
  }
 ],
 "metadata": {
  "kernelspec": {
   "display_name": "Python 3",
   "language": "python",
   "name": "python3"
  },
  "language_info": {
   "codemirror_mode": {
    "name": "ipython",
    "version": 3
   },
   "file_extension": ".py",
   "mimetype": "text/x-python",
   "name": "python",
   "nbconvert_exporter": "python",
   "pygments_lexer": "ipython3",
   "version": "3.8.6"
  }
 },
 "nbformat": 4,
 "nbformat_minor": 4
}
