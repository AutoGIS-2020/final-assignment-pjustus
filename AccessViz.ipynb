{
 "cells": [
  {
   "cell_type": "raw",
   "metadata": {},
   "source": [
    "# How to import AccessViz\n",
    "import AccesViz as av\n",
    "\n",
    "AccessViz consist of Python functions, !!!and examples on how to use these functions!!!.\n",
    "Tee apufunktioita!"
   ]
  },
  {
   "cell_type": "code",
   "execution_count": 34,
   "metadata": {},
   "outputs": [],
   "source": [
    "# Importing modules\n",
    "import glob\n",
    "import os\n",
    "from pathlib import Path\n",
    "import pandas as pd\n",
    "import zipfile"
   ]
  },
  {
   "cell_type": "code",
   "execution_count": 92,
   "metadata": {},
   "outputs": [],
   "source": [
    "# Defining FileFinder\n",
    "def FileFinder(YKR_IDs: list, input_folder_name: str, to_file=False):\n",
    "    \"\"\"\n",
    "    Returns a list of time matrix files based on a list of YKR ID values\n",
    "    from a specified input data folder. \n",
    "\n",
    "            Parameters:\n",
    "                    YKR_IDs (list): A list of YKR_ID numbers\n",
    "                    input_folder_name (str): Name of the input folder\n",
    "                    to_file (boolean): If True, also returns a text file\n",
    "\n",
    "            Returns:\n",
    "                    file_paths (list): A list of filepaths\n",
    "    \"\"\"\n",
    "    # Using assert to make sure input is ok\n",
    "    assert type(YKR_IDs) == list, \"The input of the YKR_ID:s needs to be a list!\"\n",
    "    # Finding the folder from the user's instance\n",
    "    input_folder = Path(input_folder_name).absolute()\n",
    "    # Using assert to make sure input folder exists\n",
    "    assert os.path.isdir(input_folder) == True, \"Check the input folder's name!\"\n",
    "    # Defining counter\n",
    "    counter = 1\n",
    "    # Creating an empty list for the filepaths\n",
    "    file_paths = []\n",
    "    # Creating an empty list for the filenames\n",
    "    file_names = []\n",
    "    # For-looping the input list\n",
    "    for YKR_ID in YKR_IDs:\n",
    "        # Compliting them with the possible full text file name\n",
    "        full_name = f\"travel_times_to_ {YKR_ID}.txt\"\n",
    "        # Appending the name to a list\n",
    "        file_names.append(full_name)\n",
    "    # For-looping the files in the user's instance\n",
    "    for root, dirs, files in os.walk(input_folder):\n",
    "        for name in files:\n",
    "            # Checking if the filename is in the input list\n",
    "            if name not in file_names:\n",
    "                continue\n",
    "            # Appending the name to a list\n",
    "            file_paths.append(name)\n",
    "    # Checking if the two lists are the same length\n",
    "    if len(file_paths) != len(file_names):\n",
    "        # For-looping the input list\n",
    "        for fn in file_names:\n",
    "            # Checking if the file name is in the file path list\n",
    "            if fn not in file_paths:\n",
    "                # Printing a warning to inform user\n",
    "                print(f\"File {fn} does not exist in the folder: {input_folder_name}.\\nMake sure the YKR_ID values in the input list are typed correctly.\")\n",
    "            else:\n",
    "                continue\n",
    "    # For-looping the file path list\n",
    "    for fp in file_paths:\n",
    "        # Informing the user on the progress\n",
    "        print(f\"Processing file {fp}. Progress: {counter}/{len(file_paths)}\")\n",
    "        # Increasing counter\n",
    "        counter += 1\n",
    "    # Checking for the optional parameter (default is False)\n",
    "    if to_file == True:\n",
    "        # Writing the list of filepaths to a text file\n",
    "        with open(\"YKR_ID_fps\", \"w\") as output:\n",
    "            output.write(str(file_paths))\n",
    "        # Informing the user of the name of the new text file\n",
    "        print(\"Wrote the filepaths to: YKR_ID_fps.txt\")\n",
    "    # Returning the list of filepaths\n",
    "    return file_paths"
   ]
  },
  {
   "cell_type": "markdown",
   "metadata": {},
   "source": [
    "The reason the FileFinder has many for-loops is because the FileFinder deals with an awkward order problem. See, for it to work with input folders with more files than the given input list, there has to be a specific order. After the assertions and initializing the counter and the lists, the FileFinder completes the names of the given input YKR_ID list. Then, it checks if the files in the input folder match the input list names. If there are e.g. falsely typed YKR ID's in the input list, the FileFinder gives the user a warning. Then there is this \"fake\" progress indicator to inform the user of the files FileFinder is processing. Finally, the FileFinder checks if the user asks for the file path list to be also written to a text file. \n",
    "I decided on this order because there is no reason to go through all of the files in the users input folder, because there could be thousands of files there if, for example, the user has also used the unzip-function for extracting all of the files."
   ]
  },
  {
   "cell_type": "code",
   "execution_count": 84,
   "metadata": {},
   "outputs": [],
   "source": [
    "# A test list for the FileFinder\n",
    "lista = [\"5787544\", \"5787545\", \"5787546\", \"5787547\", \"5787548\", \"5787549\", \"5787550\", \"1234567\", \"5990000\", \"5990001\", \"5990002\"]"
   ]
  },
  {
   "cell_type": "code",
   "execution_count": 93,
   "metadata": {},
   "outputs": [
    {
     "name": "stdout",
     "output_type": "stream",
     "text": [
      "File travel_times_to_ 1234567.txt does not exist in the folder: input_data.\n",
      "Make sure the YKR_ID values in the input list are typed correctly.\n",
      "Processing file travel_times_to_ 5787544.txt. Progress: 1/10\n",
      "Processing file travel_times_to_ 5787545.txt. Progress: 2/10\n",
      "Processing file travel_times_to_ 5787546.txt. Progress: 3/10\n",
      "Processing file travel_times_to_ 5787547.txt. Progress: 4/10\n",
      "Processing file travel_times_to_ 5787548.txt. Progress: 5/10\n",
      "Processing file travel_times_to_ 5787549.txt. Progress: 6/10\n",
      "Processing file travel_times_to_ 5787550.txt. Progress: 7/10\n",
      "Processing file travel_times_to_ 5990000.txt. Progress: 8/10\n",
      "Processing file travel_times_to_ 5990001.txt. Progress: 9/10\n",
      "Processing file travel_times_to_ 5990002.txt. Progress: 10/10\n"
     ]
    },
    {
     "data": {
      "text/plain": [
       "['travel_times_to_ 5787544.txt',\n",
       " 'travel_times_to_ 5787545.txt',\n",
       " 'travel_times_to_ 5787546.txt',\n",
       " 'travel_times_to_ 5787547.txt',\n",
       " 'travel_times_to_ 5787548.txt',\n",
       " 'travel_times_to_ 5787549.txt',\n",
       " 'travel_times_to_ 5787550.txt',\n",
       " 'travel_times_to_ 5990000.txt',\n",
       " 'travel_times_to_ 5990001.txt',\n",
       " 'travel_times_to_ 5990002.txt']"
      ]
     },
     "execution_count": 93,
     "metadata": {},
     "output_type": "execute_result"
    }
   ],
   "source": [
    "# Testing the FileFinder\n",
    "FileFinder(lista, \"input_data\")"
   ]
  },
  {
   "cell_type": "code",
   "execution_count": 82,
   "metadata": {},
   "outputs": [
    {
     "name": "stdout",
     "output_type": "stream",
     "text": [
      "C:\\Users\\zuzzuz\\Desktop\\PYQGIS_101\\AUTOGIS_PACKAGE\\final-assignment-pjustus\\input_data\n"
     ]
    }
   ],
   "source": [
    "print(Path(\"input_data\").absolute())"
   ]
  },
  {
   "cell_type": "code",
   "execution_count": 2,
   "metadata": {},
   "outputs": [
    {
     "ename": "SyntaxError",
     "evalue": "unexpected EOF while parsing (<ipython-input-2-6b3f7d4f316b>, line 1)",
     "output_type": "error",
     "traceback": [
      "\u001b[1;36m  File \u001b[1;32m\"<ipython-input-2-6b3f7d4f316b>\"\u001b[1;36m, line \u001b[1;32m1\u001b[0m\n\u001b[1;33m    def TableJoiner():\u001b[0m\n\u001b[1;37m                      ^\u001b[0m\n\u001b[1;31mSyntaxError\u001b[0m\u001b[1;31m:\u001b[0m unexpected EOF while parsing\n"
     ]
    }
   ],
   "source": [
    "def TableJoiner(fp_list: list):\n",
    "    \n",
    "    \n",
    "    \n",
    "    \n",
    "    "
   ]
  },
  {
   "cell_type": "code",
   "execution_count": 47,
   "metadata": {},
   "outputs": [],
   "source": [
    "# Defining unzip\n",
    "def unzip(zip_file: str, target_folder: str):\n",
    "    \"\"\"\n",
    "    Extracts selected file to a selected directory. \n",
    "\n",
    "            Parameters:\n",
    "                    zip_file (str): Name of the zip file\n",
    "                    target_dir (str): Name of the target directory\n",
    "\n",
    "            Returns:\n",
    "                    None\n",
    "    \"\"\"\n",
    "    # Reading zipfile\n",
    "    with zipfile.ZipFile(zip_file, \"r\") as zip_ref:\n",
    "        # Extracting zipfile to target folder\n",
    "        zip_ref.extractall(target_folder)\n",
    "        # Informing user of the progress\n",
    "        print(f\"File: {zip_file} extracted to: {target_folder}.\")"
   ]
  },
  {
   "cell_type": "code",
   "execution_count": 48,
   "metadata": {},
   "outputs": [
    {
     "name": "stdout",
     "output_type": "stream",
     "text": [
      "File: MetropAccess_YKR_grid.zip extracted to: grid_file.\n"
     ]
    }
   ],
   "source": [
    "# Testing unzip\n",
    "unzip(\"MetropAccess_YKR_grid.zip\", \"grid_file\")"
   ]
  },
  {
   "cell_type": "code",
   "execution_count": 49,
   "metadata": {},
   "outputs": [
    {
     "name": "stdout",
     "output_type": "stream",
     "text": [
      "File: HelsinkiRegion_TravelTimeMatrix2018.zip extracted to: TTM_files.\n"
     ]
    }
   ],
   "source": [
    "unzip(\"HelsinkiRegion_TravelTimeMatrix2018.zip\", \"TTM_files\")"
   ]
  },
  {
   "cell_type": "code",
   "execution_count": 51,
   "metadata": {},
   "outputs": [
    {
     "ename": "NameError",
     "evalue": "name 'file_paths' is not defined",
     "output_type": "error",
     "traceback": [
      "\u001b[1;31m---------------------------------------------------------------------------\u001b[0m",
      "\u001b[1;31mNameError\u001b[0m                                 Traceback (most recent call last)",
      "\u001b[1;32m<ipython-input-51-de5de53d1888>\u001b[0m in \u001b[0;36m<module>\u001b[1;34m\u001b[0m\n\u001b[1;32m----> 1\u001b[1;33m \u001b[0mlen\u001b[0m\u001b[1;33m(\u001b[0m\u001b[0mfile_paths\u001b[0m\u001b[1;33m)\u001b[0m\u001b[1;33m\u001b[0m\u001b[1;33m\u001b[0m\u001b[0m\n\u001b[0m",
      "\u001b[1;31mNameError\u001b[0m: name 'file_paths' is not defined"
     ]
    }
   ],
   "source": [
    "len(file_paths)"
   ]
  },
  {
   "cell_type": "code",
   "execution_count": null,
   "metadata": {},
   "outputs": [],
   "source": []
  },
  {
   "cell_type": "code",
   "execution_count": null,
   "metadata": {},
   "outputs": [],
   "source": [
    "\n"
   ]
  },
  {
   "cell_type": "code",
   "execution_count": null,
   "metadata": {},
   "outputs": [],
   "source": []
  },
  {
   "cell_type": "code",
   "execution_count": 3,
   "metadata": {},
   "outputs": [
    {
     "ename": "SyntaxError",
     "evalue": "unexpected EOF while parsing (<ipython-input-3-935f67ef1ef3>, line 1)",
     "output_type": "error",
     "traceback": [
      "\u001b[1;36m  File \u001b[1;32m\"<ipython-input-3-935f67ef1ef3>\"\u001b[1;36m, line \u001b[1;32m1\u001b[0m\n\u001b[1;33m    def Visualizer():\u001b[0m\n\u001b[1;37m                     ^\u001b[0m\n\u001b[1;31mSyntaxError\u001b[0m\u001b[1;31m:\u001b[0m unexpected EOF while parsing\n"
     ]
    }
   ],
   "source": [
    "def Visualizer():"
   ]
  },
  {
   "cell_type": "code",
   "execution_count": 4,
   "metadata": {},
   "outputs": [
    {
     "ename": "SyntaxError",
     "evalue": "unexpected EOF while parsing (<ipython-input-4-c7fae3c3a60c>, line 1)",
     "output_type": "error",
     "traceback": [
      "\u001b[1;36m  File \u001b[1;32m\"<ipython-input-4-c7fae3c3a60c>\"\u001b[1;36m, line \u001b[1;32m1\u001b[0m\n\u001b[1;33m    def ComparisonTool():\u001b[0m\n\u001b[1;37m                         ^\u001b[0m\n\u001b[1;31mSyntaxError\u001b[0m\u001b[1;31m:\u001b[0m unexpected EOF while parsing\n"
     ]
    }
   ],
   "source": [
    "def ComparisonTool():"
   ]
  },
  {
   "cell_type": "code",
   "execution_count": null,
   "metadata": {},
   "outputs": [],
   "source": []
  }
 ],
 "metadata": {
  "kernelspec": {
   "display_name": "Python 3",
   "language": "python",
   "name": "python3"
  },
  "language_info": {
   "codemirror_mode": {
    "name": "ipython",
    "version": 3
   },
   "file_extension": ".py",
   "mimetype": "text/x-python",
   "name": "python",
   "nbconvert_exporter": "python",
   "pygments_lexer": "ipython3",
   "version": "3.8.6"
  }
 },
 "nbformat": 4,
 "nbformat_minor": 4
}
