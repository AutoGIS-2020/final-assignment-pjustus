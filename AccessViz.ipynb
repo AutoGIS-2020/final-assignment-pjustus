{
 "cells": [
  {
   "cell_type": "raw",
   "metadata": {},
   "source": [
    "# How to import AccessViz\n",
    "import AccesViz as av\n",
    "\n",
    "AccessViz consist of Python functions, !!!and examples on how to use these functions!!!.\n",
    "Tee apufunktioita!"
   ]
  },
  {
   "cell_type": "code",
   "execution_count": 34,
   "metadata": {},
   "outputs": [],
   "source": [
    "# Importing modules\n",
    "import glob\n",
    "import os\n",
    "from pathlib import Path\n",
    "import pandas as pd\n",
    "import zipfile"
   ]
  },
  {
   "cell_type": "code",
   "execution_count": 31,
   "metadata": {},
   "outputs": [],
   "source": [
    "# Defining FileFinder\n",
    "def FileFinder(YKR_IDs: list, input_folder_name: str, to_file=False):\n",
    "    \"\"\"\n",
    "    Returns a list of time matrix files based on a list of YKR ID values\n",
    "    from a specified input data folder. \n",
    "\n",
    "            Parameters:\n",
    "                    YKR_IDs (list): A list of YKR_ID numbers\n",
    "                    input_folder_name (str): Name of the input folder\n",
    "                    to_file (boolean): If True, also returns a text file\n",
    "\n",
    "            Returns:\n",
    "                    file_paths (list): A list of filepaths\n",
    "    \"\"\"\n",
    "    # Finding the folder from the user's instance\n",
    "    input_folder = Path(input_folder_name).absolute()\n",
    "    # Defining counter\n",
    "    counter = 1\n",
    "    # Creating an empty list for the filepaths\n",
    "    file_paths = []\n",
    "    # Using assert to make sure input is ok\n",
    "    assert type(YKR_IDs) == list, \"The input of the YKR_ID:s needs to be a list!\"\n",
    "    # For-looping the files in the user's instance\n",
    "    for root, dirs, files in os.walk(input_folder):\n",
    "        for name in files:\n",
    "            # Checking if file contains \"checkpoint\" in its name\n",
    "            # This is only for this course's sake\n",
    "            if \"checkpoint\" in name:\n",
    "                continue\n",
    "            # Appending the file to the list of filepaths\n",
    "            file_paths.append(name)\n",
    "    # Checking if the given YKR_ID's can be found in the input folder\n",
    "    for YKR_ID in YKR_IDs:\n",
    "        id_check = f\"travel_times_to_ {YKR_ID}.txt\"\n",
    "        if id_check not in file_paths:\n",
    "            # Printing a warning but still continuing\n",
    "            print(f\"YKR_ID {YKR_ID} does not exist in the folder: {input_folder_name}\")\n",
    "        else:\n",
    "            # Informing the user on the current progress\n",
    "            print(f\"Processing file travel_times_to_ {YKR_ID}.txt. Progress: {counter}/{len(file_paths)}\")\n",
    "            # Adding to the counter\n",
    "            counter += 1\n",
    "    # Checking for the optional parameter (default is False)\n",
    "    if to_file == True:\n",
    "        # Writing the list of filepaths to a text file\n",
    "        with open(\"YKR_ID_fps\", \"w\") as output:\n",
    "            output.write(str(file_paths))\n",
    "        # Informing the user of the name of the new text file\n",
    "        print(\"Wrote the filepaths to: YKR_ID_fps.txt\")\n",
    "    # Returning the list of filepaths\n",
    "    return file_paths           "
   ]
  },
  {
   "cell_type": "code",
   "execution_count": 32,
   "metadata": {},
   "outputs": [],
   "source": [
    "# A test list for the FileFinder\n",
    "lista = [\"5787544\", \"5787545\", \"5787546\", \"5787547\", \"5787548\", \"5787549\", \"5787550\", \"1234567\", \"5990000\", \"5990001\", \"5990002\"]"
   ]
  },
  {
   "cell_type": "code",
   "execution_count": 33,
   "metadata": {},
   "outputs": [
    {
     "name": "stdout",
     "output_type": "stream",
     "text": [
      "Processing file travel_times_to_ 5787544.txt. Progress: 1/10\n",
      "Processing file travel_times_to_ 5787545.txt. Progress: 2/10\n",
      "Processing file travel_times_to_ 5787546.txt. Progress: 3/10\n",
      "Processing file travel_times_to_ 5787547.txt. Progress: 4/10\n",
      "Processing file travel_times_to_ 5787548.txt. Progress: 5/10\n",
      "Processing file travel_times_to_ 5787549.txt. Progress: 6/10\n",
      "Processing file travel_times_to_ 5787550.txt. Progress: 7/10\n",
      "YKR_ID 1234567 does not exist in the folder: input_data\n",
      "Processing file travel_times_to_ 5990000.txt. Progress: 8/10\n",
      "Processing file travel_times_to_ 5990001.txt. Progress: 9/10\n",
      "Processing file travel_times_to_ 5990002.txt. Progress: 10/10\n",
      "Wrote the filepaths to: YKR_ID_fps.txt\n"
     ]
    },
    {
     "data": {
      "text/plain": [
       "['travel_times_to_ 5787544.txt',\n",
       " 'travel_times_to_ 5787545.txt',\n",
       " 'travel_times_to_ 5787546.txt',\n",
       " 'travel_times_to_ 5787547.txt',\n",
       " 'travel_times_to_ 5787548.txt',\n",
       " 'travel_times_to_ 5787549.txt',\n",
       " 'travel_times_to_ 5787550.txt',\n",
       " 'travel_times_to_ 5990000.txt',\n",
       " 'travel_times_to_ 5990001.txt',\n",
       " 'travel_times_to_ 5990002.txt']"
      ]
     },
     "execution_count": 33,
     "metadata": {},
     "output_type": "execute_result"
    }
   ],
   "source": [
    "# Testing the FileFinder\n",
    "FileFinder(lista, \"input_data\", to_file=True)"
   ]
  },
  {
   "cell_type": "code",
   "execution_count": 2,
   "metadata": {},
   "outputs": [
    {
     "ename": "SyntaxError",
     "evalue": "unexpected EOF while parsing (<ipython-input-2-6b3f7d4f316b>, line 1)",
     "output_type": "error",
     "traceback": [
      "\u001b[1;36m  File \u001b[1;32m\"<ipython-input-2-6b3f7d4f316b>\"\u001b[1;36m, line \u001b[1;32m1\u001b[0m\n\u001b[1;33m    def TableJoiner():\u001b[0m\n\u001b[1;37m                      ^\u001b[0m\n\u001b[1;31mSyntaxError\u001b[0m\u001b[1;31m:\u001b[0m unexpected EOF while parsing\n"
     ]
    }
   ],
   "source": [
    "def TableJoiner(fp_list: list):\n",
    "    \n",
    "    \n",
    "    \n",
    "    \n",
    "    "
   ]
  },
  {
   "cell_type": "code",
   "execution_count": 47,
   "metadata": {},
   "outputs": [],
   "source": [
    "# Defining unzip\n",
    "def unzip(zip_file: str, target_folder: str):\n",
    "    \"\"\"\n",
    "    Extracts selected file to a selected directory. \n",
    "\n",
    "            Parameters:\n",
    "                    zip_file (str): Name of the zip file\n",
    "                    target_dir (str): Name of the target directory\n",
    "\n",
    "            Returns:\n",
    "                    None\n",
    "    \"\"\"\n",
    "    # Reading zipfile\n",
    "    with zipfile.ZipFile(zip_file, \"r\") as zip_ref:\n",
    "        # Extracting zipfile to target folder\n",
    "        zip_ref.extractall(target_folder)\n",
    "        # Informing user of the progress\n",
    "        print(f\"File: {zip_file} extracted to: {target_folder}.\")"
   ]
  },
  {
   "cell_type": "code",
   "execution_count": 48,
   "metadata": {},
   "outputs": [
    {
     "name": "stdout",
     "output_type": "stream",
     "text": [
      "File: MetropAccess_YKR_grid.zip extracted to: grid_file.\n"
     ]
    }
   ],
   "source": [
    "# Testing unzip\n",
    "unzip(\"MetropAccess_YKR_grid.zip\", \"grid_file\")"
   ]
  },
  {
   "cell_type": "code",
   "execution_count": 45,
   "metadata": {},
   "outputs": [
    {
     "name": "stdout",
     "output_type": "stream",
     "text": [
      "File: MetropAccess_YKR_grid.zip extracted to: grid_file.\n"
     ]
    },
    {
     "data": {
      "text/plain": [
       "str"
      ]
     },
     "execution_count": 45,
     "metadata": {},
     "output_type": "execute_result"
    }
   ],
   "source": []
  },
  {
   "cell_type": "code",
   "execution_count": null,
   "metadata": {},
   "outputs": [],
   "source": []
  },
  {
   "cell_type": "code",
   "execution_count": null,
   "metadata": {},
   "outputs": [],
   "source": []
  },
  {
   "cell_type": "code",
   "execution_count": null,
   "metadata": {},
   "outputs": [],
   "source": [
    "\n"
   ]
  },
  {
   "cell_type": "code",
   "execution_count": null,
   "metadata": {},
   "outputs": [],
   "source": []
  },
  {
   "cell_type": "code",
   "execution_count": 3,
   "metadata": {},
   "outputs": [
    {
     "ename": "SyntaxError",
     "evalue": "unexpected EOF while parsing (<ipython-input-3-935f67ef1ef3>, line 1)",
     "output_type": "error",
     "traceback": [
      "\u001b[1;36m  File \u001b[1;32m\"<ipython-input-3-935f67ef1ef3>\"\u001b[1;36m, line \u001b[1;32m1\u001b[0m\n\u001b[1;33m    def Visualizer():\u001b[0m\n\u001b[1;37m                     ^\u001b[0m\n\u001b[1;31mSyntaxError\u001b[0m\u001b[1;31m:\u001b[0m unexpected EOF while parsing\n"
     ]
    }
   ],
   "source": [
    "def Visualizer():"
   ]
  },
  {
   "cell_type": "code",
   "execution_count": 4,
   "metadata": {},
   "outputs": [
    {
     "ename": "SyntaxError",
     "evalue": "unexpected EOF while parsing (<ipython-input-4-c7fae3c3a60c>, line 1)",
     "output_type": "error",
     "traceback": [
      "\u001b[1;36m  File \u001b[1;32m\"<ipython-input-4-c7fae3c3a60c>\"\u001b[1;36m, line \u001b[1;32m1\u001b[0m\n\u001b[1;33m    def ComparisonTool():\u001b[0m\n\u001b[1;37m                         ^\u001b[0m\n\u001b[1;31mSyntaxError\u001b[0m\u001b[1;31m:\u001b[0m unexpected EOF while parsing\n"
     ]
    }
   ],
   "source": [
    "def ComparisonTool():"
   ]
  },
  {
   "cell_type": "code",
   "execution_count": null,
   "metadata": {},
   "outputs": [],
   "source": []
  }
 ],
 "metadata": {
  "kernelspec": {
   "display_name": "Python 3",
   "language": "python",
   "name": "python3"
  },
  "language_info": {
   "codemirror_mode": {
    "name": "ipython",
    "version": 3
   },
   "file_extension": ".py",
   "mimetype": "text/x-python",
   "name": "python",
   "nbconvert_exporter": "python",
   "pygments_lexer": "ipython3",
   "version": "3.8.6"
  }
 },
 "nbformat": 4,
 "nbformat_minor": 4
}
