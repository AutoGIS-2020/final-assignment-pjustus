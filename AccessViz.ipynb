{
 "cells": [
  {
   "cell_type": "raw",
   "metadata": {},
   "source": [
    "# How to import AccessViz\n",
    "import AccesViz as av\n",
    "\n",
    "AccessViz consist of Python functions, !!!and examples on how to use these functions!!!.\n",
    "Tee apufunktioita!"
   ]
  },
  {
   "cell_type": "code",
   "execution_count": 10,
   "metadata": {},
   "outputs": [],
   "source": [
    "# Importing modules\n",
    "import glob\n",
    "import os\n",
    "from pathlib import Path\n",
    "import pandas as pd\n",
    "import geopandas as gpd\n",
    "import zipfile"
   ]
  },
  {
   "cell_type": "code",
   "execution_count": 31,
   "metadata": {},
   "outputs": [],
   "source": [
    "# Defining FileFinder\n",
    "def FileFinder(YKR_IDs: list, input_folder_name: str, to_file=False):\n",
    "    \"\"\"\n",
    "    Returns a list of time matrix files based on a list of YKR ID values\n",
    "    from a specified input data folder. \n",
    "\n",
    "            Parameters:\n",
    "                    YKR_IDs (list): A list of YKR_ID numbers\n",
    "                    input_folder_name (str): Name of the input folder\n",
    "                    to_file (boolean): If True, also returns a text file\n",
    "\n",
    "            Returns:\n",
    "                    file_paths (list): A list of filepaths\n",
    "    \"\"\"\n",
    "    # Using assert to make sure input is ok\n",
    "    assert type(YKR_IDs) == list, \"The input of the YKR_ID:s needs to be a list!\"\n",
    "    # Finding the folder from the user's instance\n",
    "    input_folder = Path(input_folder_name).absolute()\n",
    "    # Using assert to make sure input folder exists\n",
    "    assert os.path.isdir(input_folder) == True, \"Check the input folder's name!\"\n",
    "    # Defining counter\n",
    "    counter = 1\n",
    "    # Creating an empty list for the filepaths\n",
    "    file_paths = []\n",
    "    # Creating an empty list for the filenames\n",
    "    file_names = []\n",
    "    # For-looping the input list\n",
    "    for YKR_ID in YKR_IDs:\n",
    "        # Compliting them with the possible full text file name\n",
    "        full_name = f\"travel_times_to_ {YKR_ID}.txt\"\n",
    "        # Appending the name to a list\n",
    "        file_names.append(full_name)\n",
    "    # For-looping the files in the user's instance\n",
    "    for root, dirs, files in os.walk(input_folder):\n",
    "        for name in files:\n",
    "            # Checking if the filename is in the input list\n",
    "            if name not in file_names:\n",
    "                continue\n",
    "            # Appending the name to a list\n",
    "            file_paths.append(name)\n",
    "    # Checking if the two lists are the same length\n",
    "    if len(file_paths) != len(file_names):\n",
    "        # For-looping the input list\n",
    "        for fn in file_names:\n",
    "            # Checking if the file name is in the file path list\n",
    "            if fn not in file_paths:\n",
    "                # Printing a warning to inform user\n",
    "                print(f\"File {fn} does not exist in the folder: {input_folder_name}.\\nMake sure the YKR_ID values in the input list are typed correctly.\")\n",
    "            else:\n",
    "                continue\n",
    "    # For-looping the file path list\n",
    "    for fp in file_paths:\n",
    "        # Informing the user on the progress\n",
    "        print(f\"Processing file {fp}. Progress: {counter}/{len(file_paths)}\")\n",
    "        # Increasing counter\n",
    "        counter += 1\n",
    "    # Checking for the optional parameter (default is False)\n",
    "    if to_file == True:\n",
    "        # Writing the list of filepaths to a text file\n",
    "        with open(\"YKR_ID_fps\", \"w\") as output:\n",
    "            output.write(str(file_paths))\n",
    "        # Informing the user of the name of the new text file\n",
    "        print(\"Wrote the filepaths to: YKR_ID_fps.txt\")\n",
    "    # Returning the list of filepaths\n",
    "    return file_paths"
   ]
  },
  {
   "cell_type": "code",
   "execution_count": 77,
   "metadata": {},
   "outputs": [],
   "source": [
    "# Defining FileFinder\n",
    "def FileFinder2(YKR_IDs: list, input_folder_name: str, to_file=False):\n",
    "    \"\"\"\n",
    "    Returns a list of time matrix files based on a list of YKR ID values\n",
    "    from a specified input data folder. \n",
    "\n",
    "            Parameters:\n",
    "                    YKR_IDs (list): A list of YKR_ID numbers\n",
    "                    input_folder_name (str): Name of the input folder\n",
    "                    to_file (boolean): If True, also returns a text file\n",
    "\n",
    "            Returns:\n",
    "                    file_paths (list): A list of filepaths\n",
    "    \"\"\"\n",
    "    # Using assert to make sure input is ok\n",
    "    assert type(YKR_IDs) == list, \"The input of the YKR_ID:s needs to be a list!\"\n",
    "    # Finding the folder from the user's instance\n",
    "    input_folder = Path(input_folder_name).absolute()\n",
    "    # Using assert to make sure input folder exists\n",
    "    assert os.path.isdir(input_folder) == True, \"Check the input folder's name!\"\n",
    "    # Defining counter\n",
    "    counter = 1\n",
    "    # Creating an empty list for the filepaths\n",
    "    file_paths = []\n",
    "    glob_fuel = f\"{input_folder_name}/travel_times_to_ \" \n",
    "    \n",
    "    for name in glob.glob(glob_fuel+\"*.txt\"):\n",
    "        file_paths.append(name)\n",
    "        #full_fp = Path(name).absolute()\n",
    "        if counter > 4:\n",
    "            break\n",
    "            \n",
    "        counter += 1\n",
    "            # Appending the name to a list\n",
    "            #file_paths.append(full_fp)\n",
    "    return file_paths\n",
    "    # Checking for the optional parameter (default is False)\n",
    "    #if to_file == True:\n",
    "        # Writing the list of filepaths to a text file\n",
    "     #   with open(\"YKR_ID_fps\", \"w\") as output:\n",
    "     #       output.write(str(file_paths))\n",
    "        # Informing the user of the name of the new text file\n",
    "      #  print(\"Wrote the filepaths to: YKR_ID_fps.txt\")\n",
    "    # Returning the list of filepaths\n",
    "    #return file_paths"
   ]
  },
  {
   "cell_type": "code",
   "execution_count": 46,
   "metadata": {},
   "outputs": [],
   "source": [
    "data = pd.read_csv(\"input_data/travel_times_to_ 5787550.txt\", sep=\";\")\n"
   ]
  },
  {
   "cell_type": "markdown",
   "metadata": {},
   "source": [
    "The reason the FileFinder has many for-loops is because the FileFinder deals with an awkward order problem. See, for it to work with input folders with more files than the given input list, there has to be a specific order. After the assertions and initializing the counter and the lists, the FileFinder completes the names of the given input YKR_ID list. Then, it checks if the files in the input folder match the input list names. If there are e.g. falsely typed YKR ID's in the input list, the FileFinder gives the user a warning. Then there is this \"fake\" progress indicator to inform the user of the files FileFinder is processing. Finally, the FileFinder checks if the user asks for the file path list to be also written to a text file. \n",
    "I decided on this order because there is no reason to go through all of the files in the users input folder, because there could be thousands of files there if, for example, the user has also used the unzip-function for extracting all of the files."
   ]
  },
  {
   "cell_type": "code",
   "execution_count": 3,
   "metadata": {},
   "outputs": [],
   "source": [
    "# A test list for the FileFinder\n",
    "lista = [\"5787544\", \"5787545\", \"5787546\", \"5787547\", \"5787548\", \"5787549\", \"5787550\", \"1234567\", \"5990000\", \"5990001\", \"5990002\"]"
   ]
  },
  {
   "cell_type": "code",
   "execution_count": 78,
   "metadata": {},
   "outputs": [
    {
     "data": {
      "text/plain": [
       "['input_data\\\\travel_times_to_ 5787544.txt',\n",
       " 'input_data\\\\travel_times_to_ 5787545.txt',\n",
       " 'input_data\\\\travel_times_to_ 5787546.txt',\n",
       " 'input_data\\\\travel_times_to_ 5787547.txt',\n",
       " 'input_data\\\\travel_times_to_ 5787548.txt']"
      ]
     },
     "execution_count": 78,
     "metadata": {},
     "output_type": "execute_result"
    }
   ],
   "source": [
    "# Testing the FileFinder\n",
    "FileFinder2(lista, \"input_data\")"
   ]
  },
  {
   "cell_type": "code",
   "execution_count": 28,
   "metadata": {},
   "outputs": [],
   "source": [
    "def TableJoiner(filepath: str):\n",
    "    data = pd.read_csv(filepath, sep=\";\")\n",
    "    return data\n",
    "    \n",
    "    \n",
    "    \n",
    "    # This is to get the directory that the program  \n",
    "    # is currently running in. \n",
    "    \n",
    "  \n",
    "    #for root, dirs, files in os.walk(dir_path): \n",
    "     #   for file in files:  \n",
    "  \n",
    "            # change the extension from '.mp3' to  \n",
    "            # the one of your choice. \n",
    "      #      if file == fp: \n",
    "       #         print (root+'/'+str(file))\n",
    "    \n",
    "    #YKR_data = pd.read_csv(fp, sep=\";\")\n",
    "\n",
    "    #return YKR_data\n",
    "        #        return file\n",
    "    \n",
    "    "
   ]
  },
  {
   "cell_type": "code",
   "execution_count": 29,
   "metadata": {},
   "outputs": [
    {
     "name": "stdout",
     "output_type": "stream",
     "text": [
      "File travel_times_to_ 5787544.txt does not exist in the folder: input_data.\n",
      "Make sure the YKR_ID values in the input list are typed correctly.\n",
      "File travel_times_to_ 5787545.txt does not exist in the folder: input_data.\n",
      "Make sure the YKR_ID values in the input list are typed correctly.\n",
      "File travel_times_to_ 5787546.txt does not exist in the folder: input_data.\n",
      "Make sure the YKR_ID values in the input list are typed correctly.\n",
      "File travel_times_to_ 5787547.txt does not exist in the folder: input_data.\n",
      "Make sure the YKR_ID values in the input list are typed correctly.\n",
      "File travel_times_to_ 5787548.txt does not exist in the folder: input_data.\n",
      "Make sure the YKR_ID values in the input list are typed correctly.\n",
      "File travel_times_to_ 5787549.txt does not exist in the folder: input_data.\n",
      "Make sure the YKR_ID values in the input list are typed correctly.\n",
      "File travel_times_to_ 5787550.txt does not exist in the folder: input_data.\n",
      "Make sure the YKR_ID values in the input list are typed correctly.\n",
      "File travel_times_to_ 1234567.txt does not exist in the folder: input_data.\n",
      "Make sure the YKR_ID values in the input list are typed correctly.\n",
      "File travel_times_to_ 5990000.txt does not exist in the folder: input_data.\n",
      "Make sure the YKR_ID values in the input list are typed correctly.\n",
      "File travel_times_to_ 5990001.txt does not exist in the folder: input_data.\n",
      "Make sure the YKR_ID values in the input list are typed correctly.\n",
      "File travel_times_to_ 5990002.txt does not exist in the folder: input_data.\n",
      "Make sure the YKR_ID values in the input list are typed correctly.\n",
      "Processing file C:\\Users\\zuzzuz\\Desktop\\PYQGIS_101\\AUTOGIS_PACKAGE\\final-assignment-pjustus\\travel_times_to_ 5787544.txt. Progress: 1/10\n",
      "Processing file C:\\Users\\zuzzuz\\Desktop\\PYQGIS_101\\AUTOGIS_PACKAGE\\final-assignment-pjustus\\travel_times_to_ 5787545.txt. Progress: 2/10\n",
      "Processing file C:\\Users\\zuzzuz\\Desktop\\PYQGIS_101\\AUTOGIS_PACKAGE\\final-assignment-pjustus\\travel_times_to_ 5787546.txt. Progress: 3/10\n",
      "Processing file C:\\Users\\zuzzuz\\Desktop\\PYQGIS_101\\AUTOGIS_PACKAGE\\final-assignment-pjustus\\travel_times_to_ 5787547.txt. Progress: 4/10\n",
      "Processing file C:\\Users\\zuzzuz\\Desktop\\PYQGIS_101\\AUTOGIS_PACKAGE\\final-assignment-pjustus\\travel_times_to_ 5787548.txt. Progress: 5/10\n",
      "Processing file C:\\Users\\zuzzuz\\Desktop\\PYQGIS_101\\AUTOGIS_PACKAGE\\final-assignment-pjustus\\travel_times_to_ 5787549.txt. Progress: 6/10\n",
      "Processing file C:\\Users\\zuzzuz\\Desktop\\PYQGIS_101\\AUTOGIS_PACKAGE\\final-assignment-pjustus\\travel_times_to_ 5787550.txt. Progress: 7/10\n",
      "Processing file C:\\Users\\zuzzuz\\Desktop\\PYQGIS_101\\AUTOGIS_PACKAGE\\final-assignment-pjustus\\travel_times_to_ 5990000.txt. Progress: 8/10\n",
      "Processing file C:\\Users\\zuzzuz\\Desktop\\PYQGIS_101\\AUTOGIS_PACKAGE\\final-assignment-pjustus\\travel_times_to_ 5990001.txt. Progress: 9/10\n",
      "Processing file C:\\Users\\zuzzuz\\Desktop\\PYQGIS_101\\AUTOGIS_PACKAGE\\final-assignment-pjustus\\travel_times_to_ 5990002.txt. Progress: 10/10\n"
     ]
    },
    {
     "ename": "FileNotFoundError",
     "evalue": "[Errno 2] No such file or directory: 'C:\\\\Users\\\\zuzzuz\\\\Desktop\\\\PYQGIS_101\\\\AUTOGIS_PACKAGE\\\\final-assignment-pjustus\\\\travel_times_to_ 5787544.txt'",
     "output_type": "error",
     "traceback": [
      "\u001b[1;31m---------------------------------------------------------------------------\u001b[0m",
      "\u001b[1;31mFileNotFoundError\u001b[0m                         Traceback (most recent call last)",
      "\u001b[1;32m<ipython-input-29-feccb5d2192b>\u001b[0m in \u001b[0;36m<module>\u001b[1;34m\u001b[0m\n\u001b[1;32m----> 1\u001b[1;33m \u001b[0mTableJoiner\u001b[0m\u001b[1;33m(\u001b[0m\u001b[0mFileFinder\u001b[0m\u001b[1;33m(\u001b[0m\u001b[0mlista\u001b[0m\u001b[1;33m,\u001b[0m \u001b[1;34m\"input_data\"\u001b[0m\u001b[1;33m)\u001b[0m\u001b[1;33m[\u001b[0m\u001b[1;36m0\u001b[0m\u001b[1;33m]\u001b[0m\u001b[1;33m)\u001b[0m\u001b[1;33m\u001b[0m\u001b[1;33m\u001b[0m\u001b[0m\n\u001b[0m",
      "\u001b[1;32m<ipython-input-28-27a5f6ce8bad>\u001b[0m in \u001b[0;36mTableJoiner\u001b[1;34m(filepath)\u001b[0m\n\u001b[0;32m      1\u001b[0m \u001b[1;32mdef\u001b[0m \u001b[0mTableJoiner\u001b[0m\u001b[1;33m(\u001b[0m\u001b[0mfilepath\u001b[0m\u001b[1;33m:\u001b[0m \u001b[0mstr\u001b[0m\u001b[1;33m)\u001b[0m\u001b[1;33m:\u001b[0m\u001b[1;33m\u001b[0m\u001b[1;33m\u001b[0m\u001b[0m\n\u001b[1;32m----> 2\u001b[1;33m     \u001b[0mdata\u001b[0m \u001b[1;33m=\u001b[0m \u001b[0mpd\u001b[0m\u001b[1;33m.\u001b[0m\u001b[0mread_csv\u001b[0m\u001b[1;33m(\u001b[0m\u001b[0mfilepath\u001b[0m\u001b[1;33m,\u001b[0m \u001b[0msep\u001b[0m\u001b[1;33m=\u001b[0m\u001b[1;34m\";\"\u001b[0m\u001b[1;33m)\u001b[0m\u001b[1;33m\u001b[0m\u001b[1;33m\u001b[0m\u001b[0m\n\u001b[0m\u001b[0;32m      3\u001b[0m     \u001b[1;32mreturn\u001b[0m \u001b[0mdata\u001b[0m\u001b[1;33m\u001b[0m\u001b[1;33m\u001b[0m\u001b[0m\n\u001b[0;32m      4\u001b[0m \u001b[1;33m\u001b[0m\u001b[0m\n\u001b[0;32m      5\u001b[0m \u001b[1;33m\u001b[0m\u001b[0m\n",
      "\u001b[1;32m~\\miniconda3\\envs\\python-gis\\lib\\site-packages\\pandas\\io\\parsers.py\u001b[0m in \u001b[0;36mread_csv\u001b[1;34m(filepath_or_buffer, sep, delimiter, header, names, index_col, usecols, squeeze, prefix, mangle_dupe_cols, dtype, engine, converters, true_values, false_values, skipinitialspace, skiprows, skipfooter, nrows, na_values, keep_default_na, na_filter, verbose, skip_blank_lines, parse_dates, infer_datetime_format, keep_date_col, date_parser, dayfirst, cache_dates, iterator, chunksize, compression, thousands, decimal, lineterminator, quotechar, quoting, doublequote, escapechar, comment, encoding, dialect, error_bad_lines, warn_bad_lines, delim_whitespace, low_memory, memory_map, float_precision)\u001b[0m\n\u001b[0;32m    684\u001b[0m     )\n\u001b[0;32m    685\u001b[0m \u001b[1;33m\u001b[0m\u001b[0m\n\u001b[1;32m--> 686\u001b[1;33m     \u001b[1;32mreturn\u001b[0m \u001b[0m_read\u001b[0m\u001b[1;33m(\u001b[0m\u001b[0mfilepath_or_buffer\u001b[0m\u001b[1;33m,\u001b[0m \u001b[0mkwds\u001b[0m\u001b[1;33m)\u001b[0m\u001b[1;33m\u001b[0m\u001b[1;33m\u001b[0m\u001b[0m\n\u001b[0m\u001b[0;32m    687\u001b[0m \u001b[1;33m\u001b[0m\u001b[0m\n\u001b[0;32m    688\u001b[0m \u001b[1;33m\u001b[0m\u001b[0m\n",
      "\u001b[1;32m~\\miniconda3\\envs\\python-gis\\lib\\site-packages\\pandas\\io\\parsers.py\u001b[0m in \u001b[0;36m_read\u001b[1;34m(filepath_or_buffer, kwds)\u001b[0m\n\u001b[0;32m    450\u001b[0m \u001b[1;33m\u001b[0m\u001b[0m\n\u001b[0;32m    451\u001b[0m     \u001b[1;31m# Create the parser.\u001b[0m\u001b[1;33m\u001b[0m\u001b[1;33m\u001b[0m\u001b[1;33m\u001b[0m\u001b[0m\n\u001b[1;32m--> 452\u001b[1;33m     \u001b[0mparser\u001b[0m \u001b[1;33m=\u001b[0m \u001b[0mTextFileReader\u001b[0m\u001b[1;33m(\u001b[0m\u001b[0mfp_or_buf\u001b[0m\u001b[1;33m,\u001b[0m \u001b[1;33m**\u001b[0m\u001b[0mkwds\u001b[0m\u001b[1;33m)\u001b[0m\u001b[1;33m\u001b[0m\u001b[1;33m\u001b[0m\u001b[0m\n\u001b[0m\u001b[0;32m    453\u001b[0m \u001b[1;33m\u001b[0m\u001b[0m\n\u001b[0;32m    454\u001b[0m     \u001b[1;32mif\u001b[0m \u001b[0mchunksize\u001b[0m \u001b[1;32mor\u001b[0m \u001b[0miterator\u001b[0m\u001b[1;33m:\u001b[0m\u001b[1;33m\u001b[0m\u001b[1;33m\u001b[0m\u001b[0m\n",
      "\u001b[1;32m~\\miniconda3\\envs\\python-gis\\lib\\site-packages\\pandas\\io\\parsers.py\u001b[0m in \u001b[0;36m__init__\u001b[1;34m(self, f, engine, **kwds)\u001b[0m\n\u001b[0;32m    944\u001b[0m             \u001b[0mself\u001b[0m\u001b[1;33m.\u001b[0m\u001b[0moptions\u001b[0m\u001b[1;33m[\u001b[0m\u001b[1;34m\"has_index_names\"\u001b[0m\u001b[1;33m]\u001b[0m \u001b[1;33m=\u001b[0m \u001b[0mkwds\u001b[0m\u001b[1;33m[\u001b[0m\u001b[1;34m\"has_index_names\"\u001b[0m\u001b[1;33m]\u001b[0m\u001b[1;33m\u001b[0m\u001b[1;33m\u001b[0m\u001b[0m\n\u001b[0;32m    945\u001b[0m \u001b[1;33m\u001b[0m\u001b[0m\n\u001b[1;32m--> 946\u001b[1;33m         \u001b[0mself\u001b[0m\u001b[1;33m.\u001b[0m\u001b[0m_make_engine\u001b[0m\u001b[1;33m(\u001b[0m\u001b[0mself\u001b[0m\u001b[1;33m.\u001b[0m\u001b[0mengine\u001b[0m\u001b[1;33m)\u001b[0m\u001b[1;33m\u001b[0m\u001b[1;33m\u001b[0m\u001b[0m\n\u001b[0m\u001b[0;32m    947\u001b[0m \u001b[1;33m\u001b[0m\u001b[0m\n\u001b[0;32m    948\u001b[0m     \u001b[1;32mdef\u001b[0m \u001b[0mclose\u001b[0m\u001b[1;33m(\u001b[0m\u001b[0mself\u001b[0m\u001b[1;33m)\u001b[0m\u001b[1;33m:\u001b[0m\u001b[1;33m\u001b[0m\u001b[1;33m\u001b[0m\u001b[0m\n",
      "\u001b[1;32m~\\miniconda3\\envs\\python-gis\\lib\\site-packages\\pandas\\io\\parsers.py\u001b[0m in \u001b[0;36m_make_engine\u001b[1;34m(self, engine)\u001b[0m\n\u001b[0;32m   1176\u001b[0m     \u001b[1;32mdef\u001b[0m \u001b[0m_make_engine\u001b[0m\u001b[1;33m(\u001b[0m\u001b[0mself\u001b[0m\u001b[1;33m,\u001b[0m \u001b[0mengine\u001b[0m\u001b[1;33m=\u001b[0m\u001b[1;34m\"c\"\u001b[0m\u001b[1;33m)\u001b[0m\u001b[1;33m:\u001b[0m\u001b[1;33m\u001b[0m\u001b[1;33m\u001b[0m\u001b[0m\n\u001b[0;32m   1177\u001b[0m         \u001b[1;32mif\u001b[0m \u001b[0mengine\u001b[0m \u001b[1;33m==\u001b[0m \u001b[1;34m\"c\"\u001b[0m\u001b[1;33m:\u001b[0m\u001b[1;33m\u001b[0m\u001b[1;33m\u001b[0m\u001b[0m\n\u001b[1;32m-> 1178\u001b[1;33m             \u001b[0mself\u001b[0m\u001b[1;33m.\u001b[0m\u001b[0m_engine\u001b[0m \u001b[1;33m=\u001b[0m \u001b[0mCParserWrapper\u001b[0m\u001b[1;33m(\u001b[0m\u001b[0mself\u001b[0m\u001b[1;33m.\u001b[0m\u001b[0mf\u001b[0m\u001b[1;33m,\u001b[0m \u001b[1;33m**\u001b[0m\u001b[0mself\u001b[0m\u001b[1;33m.\u001b[0m\u001b[0moptions\u001b[0m\u001b[1;33m)\u001b[0m\u001b[1;33m\u001b[0m\u001b[1;33m\u001b[0m\u001b[0m\n\u001b[0m\u001b[0;32m   1179\u001b[0m         \u001b[1;32melse\u001b[0m\u001b[1;33m:\u001b[0m\u001b[1;33m\u001b[0m\u001b[1;33m\u001b[0m\u001b[0m\n\u001b[0;32m   1180\u001b[0m             \u001b[1;32mif\u001b[0m \u001b[0mengine\u001b[0m \u001b[1;33m==\u001b[0m \u001b[1;34m\"python\"\u001b[0m\u001b[1;33m:\u001b[0m\u001b[1;33m\u001b[0m\u001b[1;33m\u001b[0m\u001b[0m\n",
      "\u001b[1;32m~\\miniconda3\\envs\\python-gis\\lib\\site-packages\\pandas\\io\\parsers.py\u001b[0m in \u001b[0;36m__init__\u001b[1;34m(self, src, **kwds)\u001b[0m\n\u001b[0;32m   2006\u001b[0m         \u001b[0mkwds\u001b[0m\u001b[1;33m[\u001b[0m\u001b[1;34m\"usecols\"\u001b[0m\u001b[1;33m]\u001b[0m \u001b[1;33m=\u001b[0m \u001b[0mself\u001b[0m\u001b[1;33m.\u001b[0m\u001b[0musecols\u001b[0m\u001b[1;33m\u001b[0m\u001b[1;33m\u001b[0m\u001b[0m\n\u001b[0;32m   2007\u001b[0m \u001b[1;33m\u001b[0m\u001b[0m\n\u001b[1;32m-> 2008\u001b[1;33m         \u001b[0mself\u001b[0m\u001b[1;33m.\u001b[0m\u001b[0m_reader\u001b[0m \u001b[1;33m=\u001b[0m \u001b[0mparsers\u001b[0m\u001b[1;33m.\u001b[0m\u001b[0mTextReader\u001b[0m\u001b[1;33m(\u001b[0m\u001b[0msrc\u001b[0m\u001b[1;33m,\u001b[0m \u001b[1;33m**\u001b[0m\u001b[0mkwds\u001b[0m\u001b[1;33m)\u001b[0m\u001b[1;33m\u001b[0m\u001b[1;33m\u001b[0m\u001b[0m\n\u001b[0m\u001b[0;32m   2009\u001b[0m         \u001b[0mself\u001b[0m\u001b[1;33m.\u001b[0m\u001b[0munnamed_cols\u001b[0m \u001b[1;33m=\u001b[0m \u001b[0mself\u001b[0m\u001b[1;33m.\u001b[0m\u001b[0m_reader\u001b[0m\u001b[1;33m.\u001b[0m\u001b[0munnamed_cols\u001b[0m\u001b[1;33m\u001b[0m\u001b[1;33m\u001b[0m\u001b[0m\n\u001b[0;32m   2010\u001b[0m \u001b[1;33m\u001b[0m\u001b[0m\n",
      "\u001b[1;32mpandas\\_libs\\parsers.pyx\u001b[0m in \u001b[0;36mpandas._libs.parsers.TextReader.__cinit__\u001b[1;34m()\u001b[0m\n",
      "\u001b[1;32mpandas\\_libs\\parsers.pyx\u001b[0m in \u001b[0;36mpandas._libs.parsers.TextReader._setup_parser_source\u001b[1;34m()\u001b[0m\n",
      "\u001b[1;31mFileNotFoundError\u001b[0m: [Errno 2] No such file or directory: 'C:\\\\Users\\\\zuzzuz\\\\Desktop\\\\PYQGIS_101\\\\AUTOGIS_PACKAGE\\\\final-assignment-pjustus\\\\travel_times_to_ 5787544.txt'"
     ]
    }
   ],
   "source": [
    "TableJoiner(FileFinder(lista, \"input_data\")[0])"
   ]
  },
  {
   "cell_type": "code",
   "execution_count": 47,
   "metadata": {},
   "outputs": [],
   "source": [
    "# Defining unzip\n",
    "def unzip(zip_file: str, target_folder: str):\n",
    "    \"\"\"\n",
    "    Extracts selected file to a selected directory. \n",
    "\n",
    "            Parameters:\n",
    "                    zip_file (str): Name of the zip file\n",
    "                    target_dir (str): Name of the target directory\n",
    "\n",
    "            Returns:\n",
    "                    None\n",
    "    \"\"\"\n",
    "    # Reading zipfile\n",
    "    with zipfile.ZipFile(zip_file, \"r\") as zip_ref:\n",
    "        # Extracting zipfile to target folder\n",
    "        zip_ref.extractall(target_folder)\n",
    "        # Informing user of the progress\n",
    "        print(f\"File: {zip_file} extracted to: {target_folder}.\")"
   ]
  },
  {
   "cell_type": "code",
   "execution_count": 48,
   "metadata": {},
   "outputs": [
    {
     "name": "stdout",
     "output_type": "stream",
     "text": [
      "File: MetropAccess_YKR_grid.zip extracted to: grid_file.\n"
     ]
    }
   ],
   "source": [
    "# Testing unzip\n",
    "unzip(\"MetropAccess_YKR_grid.zip\", \"grid_file\")"
   ]
  },
  {
   "cell_type": "code",
   "execution_count": 49,
   "metadata": {},
   "outputs": [
    {
     "name": "stdout",
     "output_type": "stream",
     "text": [
      "File: HelsinkiRegion_TravelTimeMatrix2018.zip extracted to: TTM_files.\n"
     ]
    }
   ],
   "source": [
    "unzip(\"HelsinkiRegion_TravelTimeMatrix2018.zip\", \"TTM_files\")"
   ]
  },
  {
   "cell_type": "code",
   "execution_count": 51,
   "metadata": {},
   "outputs": [
    {
     "ename": "NameError",
     "evalue": "name 'file_paths' is not defined",
     "output_type": "error",
     "traceback": [
      "\u001b[1;31m---------------------------------------------------------------------------\u001b[0m",
      "\u001b[1;31mNameError\u001b[0m                                 Traceback (most recent call last)",
      "\u001b[1;32m<ipython-input-51-de5de53d1888>\u001b[0m in \u001b[0;36m<module>\u001b[1;34m\u001b[0m\n\u001b[1;32m----> 1\u001b[1;33m \u001b[0mlen\u001b[0m\u001b[1;33m(\u001b[0m\u001b[0mfile_paths\u001b[0m\u001b[1;33m)\u001b[0m\u001b[1;33m\u001b[0m\u001b[1;33m\u001b[0m\u001b[0m\n\u001b[0m",
      "\u001b[1;31mNameError\u001b[0m: name 'file_paths' is not defined"
     ]
    }
   ],
   "source": [
    "len(file_paths)"
   ]
  },
  {
   "cell_type": "code",
   "execution_count": null,
   "metadata": {},
   "outputs": [],
   "source": []
  },
  {
   "cell_type": "code",
   "execution_count": null,
   "metadata": {},
   "outputs": [],
   "source": [
    "\n"
   ]
  },
  {
   "cell_type": "code",
   "execution_count": null,
   "metadata": {},
   "outputs": [],
   "source": []
  },
  {
   "cell_type": "code",
   "execution_count": 3,
   "metadata": {},
   "outputs": [
    {
     "ename": "SyntaxError",
     "evalue": "unexpected EOF while parsing (<ipython-input-3-935f67ef1ef3>, line 1)",
     "output_type": "error",
     "traceback": [
      "\u001b[1;36m  File \u001b[1;32m\"<ipython-input-3-935f67ef1ef3>\"\u001b[1;36m, line \u001b[1;32m1\u001b[0m\n\u001b[1;33m    def Visualizer():\u001b[0m\n\u001b[1;37m                     ^\u001b[0m\n\u001b[1;31mSyntaxError\u001b[0m\u001b[1;31m:\u001b[0m unexpected EOF while parsing\n"
     ]
    }
   ],
   "source": [
    "def Visualizer():"
   ]
  },
  {
   "cell_type": "code",
   "execution_count": 4,
   "metadata": {},
   "outputs": [
    {
     "ename": "SyntaxError",
     "evalue": "unexpected EOF while parsing (<ipython-input-4-c7fae3c3a60c>, line 1)",
     "output_type": "error",
     "traceback": [
      "\u001b[1;36m  File \u001b[1;32m\"<ipython-input-4-c7fae3c3a60c>\"\u001b[1;36m, line \u001b[1;32m1\u001b[0m\n\u001b[1;33m    def ComparisonTool():\u001b[0m\n\u001b[1;37m                         ^\u001b[0m\n\u001b[1;31mSyntaxError\u001b[0m\u001b[1;31m:\u001b[0m unexpected EOF while parsing\n"
     ]
    }
   ],
   "source": [
    "def ComparisonTool():"
   ]
  },
  {
   "cell_type": "code",
   "execution_count": null,
   "metadata": {},
   "outputs": [],
   "source": []
  }
 ],
 "metadata": {
  "kernelspec": {
   "display_name": "Python 3",
   "language": "python",
   "name": "python3"
  },
  "language_info": {
   "codemirror_mode": {
    "name": "ipython",
    "version": 3
   },
   "file_extension": ".py",
   "mimetype": "text/x-python",
   "name": "python",
   "nbconvert_exporter": "python",
   "pygments_lexer": "ipython3",
   "version": "3.8.6"
  }
 },
 "nbformat": 4,
 "nbformat_minor": 4
}
