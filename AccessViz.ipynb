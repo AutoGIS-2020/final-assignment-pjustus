{
 "cells": [
  {
   "cell_type": "raw",
   "metadata": {},
   "source": [
    "# How to import AccessViz\n",
    "import AccesViz as av\n",
    "\n",
    "AccessViz consist of Python functions, !!!and examples on how to use these functions!!!."
   ]
  },
  {
   "cell_type": "code",
   "execution_count": 23,
   "metadata": {},
   "outputs": [],
   "source": [
    "# Importing modules\n",
    "import glob\n",
    "import os\n",
    "from pathlib import Path\n",
    "import pandas as pd"
   ]
  },
  {
   "cell_type": "code",
   "execution_count": 103,
   "metadata": {},
   "outputs": [],
   "source": [
    "lista = [\"5787544\", \"5787545\", \"5787546\", \"5787547\", \"5787548\", \"5787549\", \"5787550\", \"1234567\", \"5990000\", \"5990001\", \"5990002\"]"
   ]
  },
  {
   "cell_type": "code",
   "execution_count": 85,
   "metadata": {},
   "outputs": [],
   "source": [
    "def FileFinder(YKR_IDs: list, input_folder_name: str, to_file=False):\n",
    "    input_folder = Path(input_folder_name).absolute()\n",
    "    counter = 1\n",
    "    text_files = []\n",
    "    for root, dirs, files in os.walk(input_folder):\n",
    "        for name in files:\n",
    "            if \"checkpoint\" in name:\n",
    "                    continue\n",
    "            split = name.split(\" \")\n",
    "            num = split[1]\n",
    "            ID = num[:-4]\n",
    "            if ID in YKR_IDs: \n",
    "                print(f\"Processing file {name}. Progress: {counter}/{len(YKR_IDs)}\")\n",
    "                counter += 1\n",
    "              \n",
    "              \n",
    "              \n",
    "              "
   ]
  },
  {
   "cell_type": "code",
   "execution_count": 86,
   "metadata": {},
   "outputs": [
    {
     "name": "stdout",
     "output_type": "stream",
     "text": [
      "Processing file travel_times_to_ 5787544.txt. Progress: 1/11\n",
      "Processing file travel_times_to_ 5787545.txt. Progress: 2/11\n",
      "Processing file travel_times_to_ 5787546.txt. Progress: 3/11\n",
      "Processing file travel_times_to_ 5787547.txt. Progress: 4/11\n",
      "Processing file travel_times_to_ 5787548.txt. Progress: 5/11\n",
      "Processing file travel_times_to_ 5787549.txt. Progress: 6/11\n",
      "Processing file travel_times_to_ 5787550.txt. Progress: 7/11\n",
      "Processing file travel_times_to_ 5990000.txt. Progress: 8/11\n",
      "Processing file travel_times_to_ 5990001.txt. Progress: 9/11\n",
      "Processing file travel_times_to_ 5990002.txt. Progress: 10/11\n"
     ]
    }
   ],
   "source": [
    "FileFinder(lista, \"input_data\")"
   ]
  },
  {
   "cell_type": "code",
   "execution_count": 117,
   "metadata": {},
   "outputs": [],
   "source": [
    "def FileFinder2(YKR_IDs: list, input_folder_name: str, to_file=False):\n",
    "    input_folder = Path(input_folder_name).absolute()\n",
    "    counter = 1\n",
    "    text_files = []\n",
    "    for root, dirs, files in os.walk(input_folder):\n",
    "        for name in files:\n",
    "            if \"checkpoint\" in name:\n",
    "                continue\n",
    "            text_files.append(name)\n",
    "    \n",
    "    for YKR_ID in YKR_IDs:\n",
    "        id_check = f\"travel_times_to_ {YKR_ID}.txt\"\n",
    "        if id_check not in text_files:\n",
    "            print(f\"YKR_ID {YKR_ID} does not exist in the input folder!\")\n",
    "        else:\n",
    "            print(f\"Processing file travel_times_to_ {YKR_ID}.txt. Progress: {counter}/{len(text_files)}\")\n",
    "            counter += 1\n",
    "    \n",
    "    if to_file == True:\n",
    "        with open(\"YKR_ID_fps\", \"w\") as output:\n",
    "            output.write(str(text_files))\n",
    "        print(\"Wrote the filepaths to YKR_ID_fps text file\")\n",
    "    \n",
    "    return text_files\n",
    "    \n",
    "        \n",
    "              "
   ]
  },
  {
   "cell_type": "code",
   "execution_count": 118,
   "metadata": {},
   "outputs": [
    {
     "name": "stdout",
     "output_type": "stream",
     "text": [
      "Processing file travel_times_to_ 5787544.txt. Progress: 1/10\n",
      "Processing file travel_times_to_ 5787545.txt. Progress: 2/10\n",
      "Processing file travel_times_to_ 5787546.txt. Progress: 3/10\n",
      "Processing file travel_times_to_ 5787547.txt. Progress: 4/10\n",
      "Processing file travel_times_to_ 5787548.txt. Progress: 5/10\n",
      "Processing file travel_times_to_ 5787549.txt. Progress: 6/10\n",
      "Processing file travel_times_to_ 5787550.txt. Progress: 7/10\n",
      "YKR_ID 1234567 does not exist in the input folder!\n",
      "Processing file travel_times_to_ 5990000.txt. Progress: 8/10\n",
      "Processing file travel_times_to_ 5990001.txt. Progress: 9/10\n",
      "Processing file travel_times_to_ 5990002.txt. Progress: 10/10\n",
      "Wrote the filepaths to YKR_ID_fps text file\n"
     ]
    },
    {
     "data": {
      "text/plain": [
       "['travel_times_to_ 5787544.txt',\n",
       " 'travel_times_to_ 5787545.txt',\n",
       " 'travel_times_to_ 5787546.txt',\n",
       " 'travel_times_to_ 5787547.txt',\n",
       " 'travel_times_to_ 5787548.txt',\n",
       " 'travel_times_to_ 5787549.txt',\n",
       " 'travel_times_to_ 5787550.txt',\n",
       " 'travel_times_to_ 5990000.txt',\n",
       " 'travel_times_to_ 5990001.txt',\n",
       " 'travel_times_to_ 5990002.txt']"
      ]
     },
     "execution_count": 118,
     "metadata": {},
     "output_type": "execute_result"
    }
   ],
   "source": [
    "FileFinder2(lista, \"input_data\", to_file=True)\n"
   ]
  },
  {
   "cell_type": "code",
   "execution_count": 20,
   "metadata": {},
   "outputs": [],
   "source": [
    "import glob\n",
    "for filename in glob.glob('*.txt'):\n",
    "    with open(os.path.join(os.cwd(), filename), 'r') as f:\n",
    "        print(f)\n"
   ]
  },
  {
   "cell_type": "code",
   "execution_count": 19,
   "metadata": {},
   "outputs": [
    {
     "name": "stdout",
     "output_type": "stream",
     "text": [
      "<_io.TextIOWrapper name='C:\\\\Users\\\\zuzzuz\\\\Desktop\\\\PYQGIS_101\\\\AUTOGIS_PACKAGE\\\\final-assignment-pjustus\\\\input_data\\\\travel_times_to_ 5787544.txt' mode='r' encoding='cp1252'>\n",
      "<_io.TextIOWrapper name='C:\\\\Users\\\\zuzzuz\\\\Desktop\\\\PYQGIS_101\\\\AUTOGIS_PACKAGE\\\\final-assignment-pjustus\\\\input_data\\\\travel_times_to_ 5787545.txt' mode='r' encoding='cp1252'>\n",
      "<_io.TextIOWrapper name='C:\\\\Users\\\\zuzzuz\\\\Desktop\\\\PYQGIS_101\\\\AUTOGIS_PACKAGE\\\\final-assignment-pjustus\\\\input_data\\\\travel_times_to_ 5787546.txt' mode='r' encoding='cp1252'>\n",
      "<_io.TextIOWrapper name='C:\\\\Users\\\\zuzzuz\\\\Desktop\\\\PYQGIS_101\\\\AUTOGIS_PACKAGE\\\\final-assignment-pjustus\\\\input_data\\\\travel_times_to_ 5787547.txt' mode='r' encoding='cp1252'>\n",
      "<_io.TextIOWrapper name='C:\\\\Users\\\\zuzzuz\\\\Desktop\\\\PYQGIS_101\\\\AUTOGIS_PACKAGE\\\\final-assignment-pjustus\\\\input_data\\\\travel_times_to_ 5787548.txt' mode='r' encoding='cp1252'>\n",
      "<_io.TextIOWrapper name='C:\\\\Users\\\\zuzzuz\\\\Desktop\\\\PYQGIS_101\\\\AUTOGIS_PACKAGE\\\\final-assignment-pjustus\\\\input_data\\\\travel_times_to_ 5787549.txt' mode='r' encoding='cp1252'>\n",
      "<_io.TextIOWrapper name='C:\\\\Users\\\\zuzzuz\\\\Desktop\\\\PYQGIS_101\\\\AUTOGIS_PACKAGE\\\\final-assignment-pjustus\\\\input_data\\\\travel_times_to_ 5787550.txt' mode='r' encoding='cp1252'>\n"
     ]
    }
   ],
   "source": [
    "path = r'input_data'\n",
    "for filename in glob.glob(os.path.join(path, '*.txt')):\n",
    "    with open(os.path.join(os.getcwd(), filename), 'r') as f:\n",
    "        print(f)"
   ]
  },
  {
   "cell_type": "code",
   "execution_count": 27,
   "metadata": {},
   "outputs": [
    {
     "data": {
      "text/plain": [
       "[WindowsPath('input_data/travel_times_to_ 5787544.txt'),\n",
       " WindowsPath('input_data/travel_times_to_ 5787545.txt'),\n",
       " WindowsPath('input_data/travel_times_to_ 5787546.txt'),\n",
       " WindowsPath('input_data/travel_times_to_ 5787547.txt'),\n",
       " WindowsPath('input_data/travel_times_to_ 5787548.txt'),\n",
       " WindowsPath('input_data/travel_times_to_ 5787549.txt'),\n",
       " WindowsPath('input_data/travel_times_to_ 5787550.txt'),\n",
       " WindowsPath('input_data/.ipynb_checkpoints/travel_times_to_ 5787550-checkpoint.txt')]"
      ]
     },
     "execution_count": 27,
     "metadata": {},
     "output_type": "execute_result"
    }
   ],
   "source": [
    "list(p.glob('**/*.txt'))"
   ]
  },
  {
   "cell_type": "code",
   "execution_count": 40,
   "metadata": {},
   "outputs": [
    {
     "name": "stdout",
     "output_type": "stream",
     "text": [
      "C:\\Users\\zuzzuz\\Desktop\\PYQGIS_101\\AUTOGIS_PACKAGE\\final-assignment-pjustus\\input_data\n"
     ]
    }
   ],
   "source": [
    "input_folder = Path(input_folder_name).absolute()\n"
   ]
  },
  {
   "cell_type": "code",
   "execution_count": 42,
   "metadata": {},
   "outputs": [
    {
     "name": "stdout",
     "output_type": "stream",
     "text": [
      "C:\\Users\\zuzzuz\\Desktop\\PYQGIS_101\\AUTOGIS_PACKAGE\\final-assignment-pjustus\n"
     ]
    }
   ],
   "source": [
    "location = os.getcwd()\n",
    "print(location)"
   ]
  },
  {
   "cell_type": "code",
   "execution_count": 2,
   "metadata": {},
   "outputs": [
    {
     "ename": "SyntaxError",
     "evalue": "unexpected EOF while parsing (<ipython-input-2-6b3f7d4f316b>, line 1)",
     "output_type": "error",
     "traceback": [
      "\u001b[1;36m  File \u001b[1;32m\"<ipython-input-2-6b3f7d4f316b>\"\u001b[1;36m, line \u001b[1;32m1\u001b[0m\n\u001b[1;33m    def TableJoiner():\u001b[0m\n\u001b[1;37m                      ^\u001b[0m\n\u001b[1;31mSyntaxError\u001b[0m\u001b[1;31m:\u001b[0m unexpected EOF while parsing\n"
     ]
    }
   ],
   "source": [
    "def TableJoiner():"
   ]
  },
  {
   "cell_type": "code",
   "execution_count": 3,
   "metadata": {},
   "outputs": [
    {
     "ename": "SyntaxError",
     "evalue": "unexpected EOF while parsing (<ipython-input-3-935f67ef1ef3>, line 1)",
     "output_type": "error",
     "traceback": [
      "\u001b[1;36m  File \u001b[1;32m\"<ipython-input-3-935f67ef1ef3>\"\u001b[1;36m, line \u001b[1;32m1\u001b[0m\n\u001b[1;33m    def Visualizer():\u001b[0m\n\u001b[1;37m                     ^\u001b[0m\n\u001b[1;31mSyntaxError\u001b[0m\u001b[1;31m:\u001b[0m unexpected EOF while parsing\n"
     ]
    }
   ],
   "source": [
    "def Visualizer():"
   ]
  },
  {
   "cell_type": "code",
   "execution_count": 4,
   "metadata": {},
   "outputs": [
    {
     "ename": "SyntaxError",
     "evalue": "unexpected EOF while parsing (<ipython-input-4-c7fae3c3a60c>, line 1)",
     "output_type": "error",
     "traceback": [
      "\u001b[1;36m  File \u001b[1;32m\"<ipython-input-4-c7fae3c3a60c>\"\u001b[1;36m, line \u001b[1;32m1\u001b[0m\n\u001b[1;33m    def ComparisonTool():\u001b[0m\n\u001b[1;37m                         ^\u001b[0m\n\u001b[1;31mSyntaxError\u001b[0m\u001b[1;31m:\u001b[0m unexpected EOF while parsing\n"
     ]
    }
   ],
   "source": [
    "def ComparisonTool():"
   ]
  },
  {
   "cell_type": "code",
   "execution_count": null,
   "metadata": {},
   "outputs": [],
   "source": []
  }
 ],
 "metadata": {
  "kernelspec": {
   "display_name": "Python 3",
   "language": "python",
   "name": "python3"
  },
  "language_info": {
   "codemirror_mode": {
    "name": "ipython",
    "version": 3
   },
   "file_extension": ".py",
   "mimetype": "text/x-python",
   "name": "python",
   "nbconvert_exporter": "python",
   "pygments_lexer": "ipython3",
   "version": "3.8.6"
  }
 },
 "nbformat": 4,
 "nbformat_minor": 4
}
